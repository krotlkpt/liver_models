{
 "cells": [
  {
   "cell_type": "markdown",
   "metadata": {},
   "source": [
    "# Import Required Libraries\n",
    "Import the necessary libraries, including roadrunner, matplotlib, numpy, multiprocessing, and ipywidgets."
   ]
  },
  {
   "cell_type": "code",
   "execution_count": 1,
   "metadata": {},
   "outputs": [],
   "source": [
    "import roadrunner\n",
    "import matplotlib.pyplot as plt\n",
    "import numpy as np\n",
    "import multiprocessing as mp\n",
    "import ipywidgets as widgets\n",
    "from ipywidgets import interact\n",
    "from typing import Tuple, List"
   ]
  },
  {
   "cell_type": "code",
   "execution_count": 2,
   "metadata": {},
   "outputs": [],
   "source": [
    "# Define the RoadRunner instance\n",
    "rr = roadrunner.RoadRunner(\"../SimpleFALiver.xml\")"
   ]
  },
  {
   "cell_type": "markdown",
   "metadata": {},
   "source": [
    "# Define Helper Functions\n",
    "Define the helper functions, including get_steady_state and plot_simulation."
   ]
  },
  {
   "cell_type": "code",
   "execution_count": 3,
   "metadata": {},
   "outputs": [],
   "source": [
    "# Define helper function to get steady state values\n",
    "def get_steady_state(fax: float) -> list[float]:\n",
    "    rr.reset()\n",
    "    rr.M_FAx = fax\n",
    "    rr.steadyStateSelections = [\"M_LD\", \"M_TAG\", \"M_FA\"]\n",
    "    return rr.getSteadyStateValues()\n",
    "\n",
    "# Define helper function to plot simulation results\n",
    "def plot_simulation(rr: roadrunner.RoadRunner, max_time: float, initial_fax: float) -> None:\n",
    "    rr.reset()\n",
    "    rr.M_FAx = initial_fax\n",
    "    rr.simulate(0, max_time, 200, selections=[\"time\", \"M_LD\", \"M_TAG\", \"M_FA\"])\n",
    "    fig, ax = plt.subplots()\n",
    "    rr.plot(show=False)\n",
    "    ax.legend()\n",
    "    ax.set_xlabel(\"Time\")\n",
    "    ax.set_ylabel(\"Concentration\")\n",
    "    fig.tight_layout()\n",
    "    plt.show()"
   ]
  },
  {
   "cell_type": "markdown",
   "metadata": {},
   "source": [
    "# Run Timecourse Simulation\n",
    "Run the timecourse simulation based on the selected maximum time and plot the results."
   ]
  },
  {
   "cell_type": "code",
   "execution_count": 4,
   "metadata": {},
   "outputs": [],
   "source": [
    "# Run Timecourse Simulation\n",
    "# Run the timecourse simulation based on the selected maximum time and plot the results.\n",
    "\n",
    "# Set up interactive widgets for selecting max time and initial FAx concentration\n",
    "max_time_slider = widgets.FloatSlider(\n",
    "    value=5.0,\n",
    "    min=1.0,\n",
    "    max=10.0,\n",
    "    step=0.1,\n",
    "    description='Max Time:',\n",
    "    continuous_update=False\n",
    ")\n",
    "\n",
    "initial_fax_slider = widgets.FloatSlider(\n",
    "    value=0.5,\n",
    "    min=0.0,\n",
    "    max=5.0,\n",
    "    step=0.1,\n",
    "    description='Initial FAx:',\n",
    "    continuous_update=False\n",
    ")\n"
   ]
  },
  {
   "cell_type": "markdown",
   "metadata": {},
   "source": [
    "# Run Steady State Simulation\n",
    "Run the steady state simulation based on the selected initial concentration of FAx and plot the results."
   ]
  },
  {
   "cell_type": "code",
   "execution_count": 5,
   "metadata": {},
   "outputs": [],
   "source": [
    "# Run Steady State Simulation\n",
    "# Run the steady state simulation based on the selected initial concentration of FAx and plot the results.\n",
    "\n",
    "# Define helper function to run steady state simulation and plot results\n",
    "def run_steady_state_simulation(rr: roadrunner.RoadRunner, range_fax: Tuple[float, float]) -> None:\n",
    "    result_dict = {\n",
    "        \"M_FAx\": list(),\n",
    "        \"M_LD\": list(),\n",
    "        \"M_TAG\": list(),\n",
    "        \"M_FA\": list()\n",
    "    }\n",
    "    fax_range = np.arange(range_fax[0], range_fax[1], .01)\n",
    "    \n",
    "    with mp.Pool(mp.cpu_count()) as pool:\n",
    "        \n",
    "        results = pool.map(\n",
    "            get_steady_state,\n",
    "            fax_range\n",
    "        )\n",
    "    \n",
    "    for fax, res in zip(fax_range, results):\n",
    "        result_dict[\"M_FAx\"].append(fax)\n",
    "        result_dict[\"M_LD\"].append(res[0])\n",
    "        result_dict[\"M_TAG\"].append(res[1])\n",
    "        result_dict[\"M_FA\"].append(res[2])\n",
    "    \n",
    "    fig, ax = plt.subplots()\n",
    "    ax.plot(result_dict[\"M_FAx\"], result_dict[\"M_LD\"], label=\"LD\")\n",
    "    ax.plot(result_dict[\"M_FAx\"], result_dict[\"M_TAG\"], label=\"TAG\")\n",
    "    ax.plot(result_dict[\"M_FAx\"], result_dict[\"M_FA\"], label=\"FA\")\n",
    "    ax.legend()\n",
    "    ax.set_xlabel(\"FAx\")\n",
    "    ax.set_ylabel(\"Concentration\")\n",
    "    fig.tight_layout()\n",
    "    plt.show()\n",
    "\n",
    "# Set up interactive widget for selecting FAx concentration range\n",
    "\n",
    "range_fax_slider = widgets.FloatRangeSlider(\n",
    "    value=[0.0, 5.0],\n",
    "    min=0.0,\n",
    "    max=5.0,\n",
    "    step=0.1,\n",
    "    description='Range FAx:',\n",
    "    continuous_update=False\n",
    ")\n"
   ]
  },
  {
   "cell_type": "markdown",
   "metadata": {},
   "source": [
    "# Display Plots\n",
    "Display the plots for both the timecourse and steady state simulations."
   ]
  },
  {
   "cell_type": "code",
   "execution_count": 6,
   "metadata": {},
   "outputs": [
    {
     "data": {
      "application/vnd.jupyter.widget-view+json": {
       "model_id": "7f8078eabb6f4177a8b4a8e5244e7c76",
       "version_major": 2,
       "version_minor": 0
      },
      "text/plain": [
       "interactive(children=(FloatSlider(value=5.0, continuous_update=False, description='Max Time:', max=10.0, min=1…"
      ]
     },
     "metadata": {},
     "output_type": "display_data"
    },
    {
     "data": {
      "application/vnd.jupyter.widget-view+json": {
       "model_id": "39adde2f8e094922b15acda9936564b3",
       "version_major": 2,
       "version_minor": 0
      },
      "text/plain": [
       "interactive(children=(FloatRangeSlider(value=(0.0, 5.0), continuous_update=False, description='Range FAx:', ma…"
      ]
     },
     "metadata": {},
     "output_type": "display_data"
    },
    {
     "data": {
      "text/plain": [
       "<function __main__.<lambda>(range_fax)>"
      ]
     },
     "execution_count": 6,
     "metadata": {},
     "output_type": "execute_result"
    }
   ],
   "source": [
    "# Display Plots\n",
    "# Display the plots for both the timecourse and steady state simulations.\n",
    "\n",
    "# Plot Timecourse Simulation\n",
    "interact(\n",
    "    lambda max_time, initial_fax:\n",
    "    plot_simulation(rr, max_time, initial_fax),\n",
    "    max_time=max_time_slider, initial_fax=initial_fax_slider\n",
    ")\n",
    "\n",
    "# Plot Steady State Simulation\n",
    "interact(\n",
    "    lambda range_fax:\n",
    "    run_steady_state_simulation(rr, range_fax),\n",
    "    range_fax=range_fax_slider\n",
    ")"
   ]
  }
 ],
 "metadata": {
  "kernelspec": {
   "display_name": ".liverenv",
   "language": "python",
   "name": "python3"
  },
  "language_info": {
   "codemirror_mode": {
    "name": "ipython",
    "version": 3
   },
   "file_extension": ".py",
   "mimetype": "text/x-python",
   "name": "python",
   "nbconvert_exporter": "python",
   "pygments_lexer": "ipython3",
   "version": "3.11.2"
  }
 },
 "nbformat": 4,
 "nbformat_minor": 2
}
